{
  "cells": [
    {
      "cell_type": "code",
      "source": [
        "import torch\n",
        "import torch.nn as nn\n",
        "from torch.nn import functional as F\n",
        "import os\n",
        "import mmap\n",
        "import random\n",
        "import pickle\n",
        "import argparse\n",
        "import lzma\n",
        "from tqdm import tqdm\n",
        "\n",
        "device = 'cuda' if torch.cuda.is_available() else 'cpu'\n",
        "print(device)"
      ],
      "metadata": {
        "id": "TBHfF-S7TA43"
      },
      "execution_count": null,
      "outputs": []
    },
    {
      "cell_type": "code",
      "source": [
        "#parameters\n",
        "block_size = 8\n",
        "batch_size = 4\n",
        "max_iters = 1000\n",
        "# eval_iters = 2500\n",
        "learning_rate = 3e-4\n",
        "eval_iters = 250"
      ],
      "metadata": {
        "id": "oIxQfnePTCdy"
      },
      "execution_count": null,
      "outputs": []
    },
    {
      "cell_type": "code",
      "source": [
        "with open(r'C:\\Users\\tiakh\\AppData\\Roaming\\jupyter\\kernels\\cuda\\Wiz_of_oz.txt', 'r', encoding = 'utf-8') as f:\n",
        "    text = f.read()\n",
        "# print(test[:200])\n",
        "chars = sorted(set(text))\n",
        "vocab_size = len(chars)\n",
        "# print(vocab_size)"
      ],
      "metadata": {
        "id": "jopdntI8TCf-"
      },
      "execution_count": null,
      "outputs": []
    },
    {
      "cell_type": "code",
      "source": [
        "#Creating a HashMap that maps to character to number and number to character\n",
        "string_to_int = {ch:i for i, ch in enumerate(chars)}\n",
        "int_to_string = {i:ch for i, ch in enumerate(chars)}\n",
        "\n",
        "'''lambda is essential when you wanna creatye a function for a small period of time and for a very simple task.\n",
        "Complex lambda function reduces readibility. its works as a normal def in python'''\n",
        "#Forming an encoding and decoding logic for the maps\n",
        "encode = lambda s: [string_to_int[c] for c in s]\n",
        "decode = lambda l: ''.join([int_to_string[i] for i in l])"
      ],
      "metadata": {
        "id": "KIEL54wdTCiJ"
      },
      "execution_count": null,
      "outputs": []
    },
    {
      "cell_type": "code",
      "source": [
        "'''torch.long - tensor should be of integer type with 64 bits of precision'''\n",
        "#Converting array data to tensor as pytorch deals with data in tensor\n",
        "data = torch.tensor(encode(text), dtype = torch.long)\n",
        "# print(data[:100])"
      ],
      "metadata": {
        "id": "1KqGa0dgTCkV"
      },
      "execution_count": null,
      "outputs": []
    },
    {
      "cell_type": "code",
      "source": [
        "n = int(0.8*len(data))\n",
        "train_data = data[:n]\n",
        "val_data = data[n:]\n",
        "\n",
        "def get_batch(split):\n",
        "    data = train_data if split == 'train' else val_data\n",
        "    ix = torch.randint(len(data) - block_size, (batch_size,))\n",
        "    x = torch.stack([data[i:i+block_size] for i in ix])\n",
        "    y = torch.stack([data[i+1:i+block_size+1] for i in ix])\n",
        "    x, y = x.to(device), y.to(device)\n",
        "    return x, y\n",
        "\n",
        "x, y = get_batch('train')\n",
        "print('inputs:')\n",
        "# print(x.shape)\n",
        "print(x)\n",
        "print('targets:')\n",
        "print(y)"
      ],
      "metadata": {
        "id": "uX6TnajATCmR"
      },
      "execution_count": null,
      "outputs": []
    },
    {
      "cell_type": "code",
      "source": [
        "'''Pytorch practise'''\n",
        "# torch.stack , torch.multinomial, torch.trill, torch.triu, input.T/input.transpose, nn.Linear, torch.cat, F.softmax"
      ],
      "metadata": {
        "id": "Azi6GTEdTCoC"
      },
      "execution_count": null,
      "outputs": []
    },
    {
      "cell_type": "code",
      "source": [
        "n = int(0.8*len(data))\n",
        "training_data = data[:n]\n",
        "val_data = data[n:]\n",
        "\n",
        "def get_batch(split):\n",
        "    data = training_data if split =='train' else val_data\n",
        "    ix = torch.randint(len(data) - block_size, (batch_size,) )\n",
        "    # print(ix)\n",
        "\n",
        "    x = torch.stack([data[i:i+block_size]for i in ix])\n",
        "    y = torch.stack([data[i+1:i+block_size+1]for i in ix])\n",
        "    return x,y\n",
        "\n",
        "x, y = get_batch('train')"
      ],
      "metadata": {
        "id": "Ct6t081fTCpr"
      },
      "execution_count": null,
      "outputs": []
    },
    {
      "cell_type": "code",
      "source": [
        "@torch.no_grad() #ensures that there is no gradient descent happeining ins this code block. There is no training here because no gradients\n",
        "def estimate_loss():\n",
        "    out = {}\n",
        "    m.eval()\n",
        "    for split in ['train', 'val']:\n",
        "        losses = torch.zeros(eval_iters)\n",
        "        for k in range(eval_iters):\n",
        "            X,Y = get_batch(split)\n",
        "            logits, loss = m(X, Y)\n",
        "            losses[k] = loss.item()\n",
        "        out[split] = losses.mean()\n",
        "    m.train()\n",
        "    return out"
      ],
      "metadata": {
        "id": "hhWUhjvCTCrU"
      },
      "execution_count": null,
      "outputs": []
    },
    {
      "cell_type": "code",
      "source": [
        "'''nn.Embedding is nothing but a lookup table and logits'''\n",
        "\n",
        "class BiGramLanguageModel(nn.Module):\n",
        "    def __init__(self, vocab_size):\n",
        "        super().__init__()\n",
        "        self.token_embedding_table = nn.Embedding(vocab_size, vocab_size)\n",
        "\n",
        "    def forward(self, index, targets=None):\n",
        "        logits = self.token_embedding_table(index)\n",
        "\n",
        "        if targets is None:\n",
        "            loss = None\n",
        "        else:\n",
        "            B, T, C = logits.shape\n",
        "            logits = logits.view(B*T, C)\n",
        "            targets = targets.view(B*T)\n",
        "            loss = F.cross_entropy(logits, targets)\n",
        "# so the reason we are doing to make data into 2D, and B is batch_dimensions, T is the size of the time sequence dimesnion, C is the channels\n",
        "# the reason we need it in 2D is becuase cross_entrpy function accepts only 2 variables.\n",
        "        return logits, loss\n",
        "\n",
        "    def generator(self, index, max_new_tokens):\n",
        "    # Generate new tokens\n",
        "        for _ in range(max_new_tokens):\n",
        "            # Forward pass to get logits and loss (we don't use loss here, just for forward computation)\n",
        "            logits, loss = self.forward(index)\n",
        "            # Extract the logits for the last token in the sequence\n",
        "            logits = logits[:, -1, :]\n",
        "            # Calculate softmax probabilities over the logits to get the probability distribution for the next token\n",
        "            next_token_probs = F.softmax(logits, dim=-1)\n",
        "            # Sample from the probability distribution to get the index of the next token\n",
        "            next_token_index = torch.multinomial(next_token_probs, num_samples=1)\n",
        "            # Concatenate the index of the next token to the sequence\n",
        "            index = torch.cat((index, next_token_index), dim=1)\n",
        "        return index\n",
        "\n",
        "m = BiGramLanguageModel(vocab_size)"
      ],
      "metadata": {
        "id": "Fz1HocsETCtX"
      },
      "execution_count": null,
      "outputs": []
    },
    {
      "cell_type": "code",
      "source": [
        "optimizer = torch.optim.AdamW(m.parameters(), lr=learning_rate, weight_decay=0.01)"
      ],
      "metadata": {
        "id": "SoPOz7zRTCvA"
      },
      "execution_count": null,
      "outputs": []
    },
    {
      "cell_type": "code",
      "source": [
        "for iter in range(max_iters):\n",
        "    # print(iter)\n",
        "    if iter % eval_iters == 0:\n",
        "        losses = estimate_loss()\n",
        "        print(f\"step: {iter}, train loss: {losses['train']:.3f}, val loss: {losses['val']:.3f}\")\n",
        "\n",
        "    # sample a batch of data\n",
        "    xb, yb = get_batch('train')\n",
        "\n",
        "    # evaluate the loss\n",
        "    logits, loss = m.forward(xb, yb)\n",
        "    optimizer.zero_grad(set_to_none=True)\n",
        "    loss.backward()\n",
        "    optimizer.step()\n",
        "print(loss.item())"
      ],
      "metadata": {
        "id": "SqFvBtdQTC0e"
      },
      "execution_count": null,
      "outputs": []
    },
    {
      "cell_type": "code",
      "source": [
        "context = torch.zeros((1,1), dtype=torch.long, device=device)\n",
        "generated_chars = decode(m.generator(context, max_new_tokens = 500)[0].tolist())\n",
        "print(generated_chars)"
      ],
      "metadata": {
        "id": "K4lQwdINTC28"
      },
      "execution_count": null,
      "outputs": []
    }
  ],
  "metadata": {
    "colab": {
      "name": "Welcome To Colaboratory",
      "toc_visible": true,
      "provenance": []
    },
    "kernelspec": {
      "display_name": "Python 3",
      "name": "python3"
    }
  },
  "nbformat": 4,
  "nbformat_minor": 0
}